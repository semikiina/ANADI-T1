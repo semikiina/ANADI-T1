{
 "cells": [
  {
   "cell_type": "markdown",
   "metadata": {},
   "source": [
    "# Trabalho Prático - Análise de Dados em Informática\n",
    "\n",
    "## Análise e exploração de dados\n",
    "\n",
    "1.Construa um gráfico que permita visualizar os níveis médios do poluente O3 nas diversas regiões de \n",
    "Portugal (NUTS Code). Indique a região com nível médio de O3 mais elevado. \n"
   ]
  },
  {
   "cell_type": "code",
   "execution_count": null,
   "metadata": {},
   "outputs": [],
   "source": [
    "import pandas as pd\n",
    "import matplotlib.pyplot as plt\n",
    "\n",
    "# Carregar os dados\n",
    "df = pd.read_csv(\"AIRPOL_data.csv\", sep=';')\n",
    "\n",
    "# Filtrar dados de Portugal e O3\n",
    "df_portugal_o3 = df[(df['Country'] == 'Portugal') & (df['Air_Pollutant'] == 'O3')]\n",
    "\n",
    "# Verificar dados\n",
    "if df_portugal_o3.empty:\n",
    "    print(\"Não existem dados de O3 para Portugal.\")\n",
    "    exit()\n",
    "\n",
    "# Converter a coluna 'Air_Pollution_Average[ug/m3]' para float\n",
    "df_portugal_o3['Air_Pollution_Average[ug/m3]'] = df_portugal_o3['Air_Pollution_Average[ug/m3]'].str.replace(',', '.').astype(float)\n",
    "df_portugal_o3['NUTS_Code'] = df_portugal_o3['NUTS_Code'].astype(str)\n",
    "\n",
    "# Calcular média por região (NUTS_Code)\n",
    "o3_means = df_portugal_o3.groupby('NUTS_Code')['Air_Pollution_Average[ug/m3]'].mean()\n",
    "\n",
    "# Gráfico de barras\n",
    "plt.figure(figsize=(10, 6))\n",
    "o3_means.plot(kind='bar', color='skyblue')\n",
    "plt.title('Níveis Médios de O3 por Região em Portugal (2022)')\n",
    "plt.xlabel('Região (NUTS Code)')\n",
    "plt.ylabel('Nível Médio de O3')\n",
    "plt.xticks(rotation=45)\n",
    "plt.tight_layout()\n",
    "plt.show()\n",
    "\n",
    "# Identificar região com maior nível médio\n",
    "max_region = o3_means.idxmax()\n",
    "max_value = o3_means.max()\n",
    "print(f\"Região com maior nível médio de O3: {max_region} ({max_value:.4f})\")"
   ]
  },
  {
   "cell_type": "markdown",
   "metadata": {},
   "source": [
    "2.Usando boxplots, construa um gráfico que permita comparar as distribuições dos níveis médios do\n",
    "poluente PM2.5 em Portugal, Espanha, Franca e Itália."
   ]
  },
  {
   "cell_type": "code",
   "execution_count": null,
   "metadata": {},
   "outputs": [],
   "source": [
    "import seaborn as sns\n",
    "\n",
    "# Filtrar países e PM2.5\n",
    "countries = ['Portugal', 'Spain', 'France', 'Italy']\n",
    "df_pm25 = df[(df['Country'].isin(countries)) & (df['Air_Pollutant'] == 'PM2.5')]\n",
    "\n",
    "# Criar o boxplot\n",
    "plt.figure(figsize=(10, 6))  # Define o tamanho do gráfico\n",
    "sns.boxplot(x='Country', y='Air_Pollution_Average[ug/m3]', data=df_pm25, palette='Set2')  # Gera o boxplot\n",
    "plt.title('Distribuição dos Níveis Médios de PM2.5 por País (2022)')  # Título\n",
    "plt.xlabel('País')  # Eixo X\n",
    "plt.ylabel('Nível Médio de PM2.5')  # Eixo Y\n",
    "plt.tight_layout()  # Ajusta o layout\n",
    "plt.yticks(range(0, 101, 10))  # Define os ticks do eixo Y\n",
    "plt.show()  # Exibe o gráfico"
   ]
  },
  {
   "cell_type": "markdown",
   "metadata": {},
   "source": [
    "3.Usando  uma  representação  gráfica adequada,  compare  as  distribuições  do  número  de mortes prematuras (Value) em Portugal, Espanha, França e Itália."
   ]
  },
  {
   "cell_type": "code",
   "execution_count": null,
   "metadata": {},
   "outputs": [],
   "source": [
    "\n",
    "# Filtrar dados dos países e mortes prematuras\n",
    "df_mortes = df[df['Country'].isin(countries)]\n",
    "\n",
    "# Converter a coluna 'Value' para float\n",
    "df_mortes['Value'] = df_mortes['Value'].str.replace(',', '.').astype(float)\n",
    "\n",
    "plt.figure(figsize=(10, 6))\n",
    "sns.boxplot(x='Country', y='Value', data=df_mortes, palette='Set3')\n",
    "plt.title('Distribuição do Número de Mortes Prematuras por País ')\n",
    "plt.xlabel('País')\n",
    "plt.ylabel('Número de Mortes Prematuras')\n",
    "plt.yscale('log')\n",
    "plt.tight_layout()\n",
    "plt.show()\n"
   ]
  },
  {
   "cell_type": "markdown",
   "metadata": {},
   "source": [
    "4.Construa uma tabela que indique, os valores da média, quartis, desvio padrão, assimetria e curtose, do \n",
    "número de mortes prematuras (Value) associado a STROKE para cada um dos países: Espanha,  França, \n",
    "Itália e Grécia (apresente os resultados com 4 casas decimais)"
   ]
  },
  {
   "cell_type": "code",
   "execution_count": null,
   "metadata": {},
   "outputs": [],
   "source": [
    "# Filtrar dados de mortes prematuras associadas a STROKE para os países especificados\n",
    "df_stroke = df[(df['Country'].isin(countries)) & (df['Outcome'] == 'Stroke')]\n",
    "\n",
    "# Converter a coluna 'Value' para float\n",
    "df_stroke['Value'] = df_stroke['Value'].str.replace(',', '.').astype(float)\n",
    "\n",
    "# Função para calcular as estatísticas\n",
    "def calc_stats(group):\n",
    "    return pd.Series({\n",
    "        'Média': group.mean(),\n",
    "        'Q1': group.quantile(0.25),\n",
    "        'Mediana': group.median(),\n",
    "        'Q3': group.quantile(0.75),\n",
    "        'Desvio Padrão': group.std(),\n",
    "        'Assimetria': skew(group),\n",
    "        'Curtose': kurtosis(group)\n",
    "    })\n",
    "\n",
    "# Calcular estatísticas por país\n",
    "stats_table = df_stroke.groupby('Country')['Value'].apply(calc_stats)\n",
    "\n",
    "# Arredondar para 4 casas decimais\n",
    "stats_table = stats_table.round(4)\n",
    "\n",
    "# Exibir a tabela horizontalmente\n",
    "print(stats_table.unstack().T)\n"
   ]
  }
 ],
 "metadata": {
  "kernelspec": {
   "display_name": "base",
   "language": "python",
   "name": "python3"
  },
  "language_info": {
   "codemirror_mode": {
    "name": "ipython",
    "version": 3
   },
   "file_extension": ".py",
   "mimetype": "text/x-python",
   "name": "python",
   "nbconvert_exporter": "python",
   "pygments_lexer": "ipython3",
   "version": "3.12.4"
  }
 },
 "nbformat": 4,
 "nbformat_minor": 2
}
