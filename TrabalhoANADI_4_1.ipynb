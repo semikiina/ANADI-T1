{
 "cells": [
  {
   "cell_type": "markdown",
   "metadata": {},
   "source": [
    "# 4.1 Análise e exploração de dados\n",
    "\n",
    "1.Construa um gráfico que permita visualizar os níveis médios do poluente O3 nas diversas regiões de \n",
    "Portugal (NUTS Code). Indique a região com nível médio de O3 mais elevado. \n"
   ]
  },
  {
   "cell_type": "code",
   "execution_count": null,
   "metadata": {},
   "outputs": [],
   "source": [
    "import pandas as pd\n",
    "import matplotlib.pyplot as plt\n",
    "\n",
    "# Carregar os dados\n",
    "df = pd.read_csv(\"AIRPOL_data.csv\", sep=';')\n",
    "\n",
    "# Converter colunas para numérico (substituindo vírgulas por pontos)\n",
    "numeric_columns = ['Air_Pollution_Average[ug/m3]', 'Value', 'Populated_Area[km2]', 'Affected_Population']\n",
    "for col in numeric_columns:\n",
    "    if col in df.columns:\n",
    "        df[col] = df[col].astype(str).str.replace(',', '.').astype(float)\n",
    "        \n",
    "\n",
    "# Filtrar dados de Portugal e O3\n",
    "df_portugal_o3 = df[(df['Country'] == 'Portugal') & (df['Air_Pollutant'] == 'O3')]\n",
    "\n",
    "# Verificar dados\n",
    "if df_portugal_o3.empty:\n",
    "    print(\"Não existem dados de O3 para Portugal.\")\n",
    "    exit()\n",
    "\n",
    "\n",
    "df_portugal_o3['NUTS_Code'] = df_portugal_o3['NUTS_Code'].astype(str)\n",
    "\n",
    "# Calcular média por região (NUTS_Code)\n",
    "o3_means = df_portugal_o3.groupby('NUTS_Code')['Air_Pollution_Average[ug/m3]'].mean()\n",
    "\n",
    "# Gráfico de barras\n",
    "plt.figure(figsize=(10, 6))\n",
    "o3_means.plot(kind='bar', color='skyblue')\n",
    "plt.title('Níveis Médios de O3 por Região em Portugal (2022)')\n",
    "plt.xlabel('Região (NUTS Code)')\n",
    "plt.ylabel('Nível Médio de O3')\n",
    "plt.xticks(rotation=45)\n",
    "plt.tight_layout()\n",
    "plt.show()\n",
    "\n",
    "# Identificar região com maior nível médio\n",
    "max_region = o3_means.idxmax()\n",
    "max_value = o3_means.max()\n",
    "print(f\"Região com maior nível médio de O3: {max_region} ({max_value:.4f})\")"
   ]
  },
  {
   "cell_type": "markdown",
   "metadata": {},
   "source": [
    "2.Usando boxplots, construa um gráfico que permita comparar as distribuições dos níveis médios do\n",
    "poluente PM2.5 em Portugal, Espanha, Franca e Itália."
   ]
  },
  {
   "cell_type": "code",
   "execution_count": null,
   "metadata": {},
   "outputs": [],
   "source": [
    "import seaborn as sns\n",
    "\n",
    "# Filtrar países e PM2.5\n",
    "countries = ['Portugal', 'Spain', 'France', 'Italy']\n",
    "df_pm25 = df[(df['Country'].isin(countries)) & (df['Air_Pollutant'] == 'PM2.5')]\n",
    "\n",
    "print(f\"Total de dados de PM2.5: {len(df_pm25)}\\n\")\n",
    "for country in countries:\n",
    "    country_data = df_pm25[df_pm25['Country'] == country]\n",
    "    print(f\"Dados de PM2.5 para {country}: {len(country_data)}\")\n",
    "    # Apresentar o maior, menor e média\n",
    "    print(f\"  Maior: {country_data['Air_Pollution_Average[ug/m3]'].max():.4f}\")\n",
    "    print(f\"  Menor: {country_data['Air_Pollution_Average[ug/m3]'].min():.4f}\")\n",
    "    print(f\"  Média: {country_data['Air_Pollution_Average[ug/m3]'].mean():.4f}\")\n",
    "    print(f\"  Desvio Padrão: {country_data['Air_Pollution_Average[ug/m3]'].std():.4f}\")\n",
    "    print(f\"  Mediana : {country_data['Air_Pollution_Average[ug/m3]'].median():.4f}\\n\")\n",
    "\n",
    "\n",
    "# Verificar se existem dados para os países selecionados\n",
    "if df_pm25.empty:\n",
    "    print(\"Não existem dados de PM2.5 para os países selecionados.\")\n",
    "    exit()\n",
    "\n",
    "# Criar o boxplot\n",
    "plt.figure(figsize=(10, 6))  # Define o tamanho do gráfico\n",
    "sns.boxplot(x='Country', y='Air_Pollution_Average[ug/m3]', data=df_pm25, palette='Set2')  # Gera o boxplot\n",
    "plt.title('Distribuição dos Níveis Médios de PM2.5 por País (2022)')  # Título\n",
    "plt.xlabel('País')  # Eixo X\n",
    "plt.ylabel('Nível Médio de PM2.5')  # Eixo Y\n",
    "plt.tight_layout()  # Ajusta o layout\n",
    "plt.show()  # Exibe o gráfico"
   ]
  },
  {
   "cell_type": "markdown",
   "metadata": {},
   "source": [
    "3.Usando  uma  representação  gráfica adequada,  compare  as  distribuições  do  número  de mortes prematuras (Value) em Portugal, Espanha, França e Itália."
   ]
  },
  {
   "cell_type": "code",
   "execution_count": null,
   "metadata": {},
   "outputs": [],
   "source": [
    "\n",
    "# Filtrar dados dos países e mortes prematuras\n",
    "df_mortes = df[df['Country'].isin(countries)]\n",
    "\n",
    "print(f\"\\nTotal de dados de mortes prematuras: {len(df_mortes)}\\n\")  \n",
    "\n",
    "for country in countries:\n",
    "    country_data = df_mortes[df_mortes['Country'] == country]\n",
    "    print(f\"Dados de mortes prematuras para {country}: {len(country_data)}\")\n",
    "    # Apresentar o maior, menor e média\n",
    "    print(f\"  Maior: {country_data['Value'].max():.4f}\")\n",
    "    print(f\"  Menor: {country_data['Value'].min():.4f}\")\n",
    "    print(f\"  Média: {country_data['Value'].mean():.4f}\")\n",
    "    print(f\"  Desvio Padrão: {country_data['Value'].std():.4f}\")\n",
    "    print(f\"  Mediana : {country_data['Value'].median():.4f}\")\n",
    "    print(f\"  Total de mortes: {country_data['Value'].sum():.4f}\")\n",
    "    print(\"\\n\")\n",
    "\n",
    "\n",
    "# Criar o gráfico de boxplot\n",
    "plt.figure(figsize=(10, 6))\n",
    "sns.boxplot(x='Country', y='Value', data=df_mortes, palette='Set3')\n",
    "plt.title('Distribuição do Número de Mortes Prematuras por País')\n",
    "plt.xlabel('País')\n",
    "plt.ylabel('Número de Mortes Prematuras (Value)')\n",
    "plt.yscale('log')\n",
    "plt.grid(axis='y', linestyle='--', alpha=0.7)\n",
    "\n",
    "plt.tight_layout()\n",
    "plt.show()\n"
   ]
  },
  {
   "cell_type": "markdown",
   "metadata": {},
   "source": [
    "4.Construa uma tabela que indique, os valores da média, quartis, desvio padrão, assimetria e curtose, do \n",
    "número de mortes prematuras (Value) associado a STROKE para cada um dos países: Espanha,  França, \n",
    "Itália e Grécia (apresente os resultados com 4 casas decimais)"
   ]
  },
  {
   "cell_type": "code",
   "execution_count": null,
   "metadata": {},
   "outputs": [],
   "source": [
    "from scipy.stats import skew, kurtosis\n",
    "from tabulate import tabulate\n",
    "\n",
    "# Filtrar dados de mortes prematuras associadas a STROKE para os países especificados\n",
    "df_stroke = df[(df['Country'].isin(countries)) & (df['Outcome'] == 'Stroke')]\n",
    "\n",
    "\n",
    "# Função para calcular as estatísticas\n",
    "def calc_stats(group):\n",
    "    return pd.Series({\n",
    "        'Média': group.mean(),\n",
    "        'Q1': group.quantile(0.25),\n",
    "        'Mediana': group.median(),\n",
    "        'Q3': group.quantile(0.75),\n",
    "        'Desvio Padrão': group.std(),\n",
    "        'Assimetria': skew(group),\n",
    "        'Curtose': kurtosis(group)\n",
    "    })\n",
    "\n",
    "# Calcular estatísticas por país\n",
    "stats_table = df_stroke.groupby('Country')['Value'].apply(calc_stats)\n",
    "# Arredondar para 4 casas decimais\n",
    "stats_table = stats_table.round(4)\n",
    "\n",
    "print(tabulate(stats_table.unstack().T, headers='keys', tablefmt='pretty', showindex=True))\n",
    "\n"
   ]
  }
 ],
 "metadata": {
  "kernelspec": {
   "display_name": "base",
   "language": "python",
   "name": "python3"
  },
  "language_info": {
   "codemirror_mode": {
    "name": "ipython",
    "version": 3
   },
   "file_extension": ".py",
   "mimetype": "text/x-python",
   "name": "python",
   "nbconvert_exporter": "python",
   "pygments_lexer": "ipython3",
   "version": "3.12.4"
  }
 },
 "nbformat": 4,
 "nbformat_minor": 2
}
